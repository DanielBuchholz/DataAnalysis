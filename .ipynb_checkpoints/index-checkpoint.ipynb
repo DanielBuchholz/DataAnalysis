{
 "cells": [
  {
   "cell_type": "markdown",
   "metadata": {},
   "source": [
    "# Modul Datenanalyse (SS 2020) - Python Einführung, Prof. Dr. Malte Prieß\n",
    "\n",
    "## Getting Started\n",
    "* [Getting Started](01_getting_started.ipynb)\n",
    "\n",
    "## Einführung Python\n",
    "1. [XYZ](XYZ.ipynb)\n",
    "\n",
    "## Scientific Python Bibliotheken\n",
    "Im Folgenden ist einige Übersicht und Einführung in bekannte Python Bibliotheken gegeben.\n",
    "* [NumPy](tools_numpy.ipynb)\n",
    "* [Matplotlib](tools_matplotlib.ipynb)\n",
    "* [Pandas](tools_pandas.ipynb)\n",
    "\n",
    "## Tutorials Mathematik\n",
    "Für die Verfahren des Maschinellen Lernens ist ein grundlegendes Verständnis der linearen Algebra, Analysis, Statistik und Wahrscheinlichkeitstheorie erforderlich. Wenn ihr euchmit diesen Themen nicht auskennt oder eine Auffrischung benötigt, dann sind folgende Einführungen hilfreich (Quelle: [Géron (2018): Praxiseinstieg Machine Learning mit Scikit-Learn und TensorFlow](https://github.com/ageron/handson-ml/#installation)).\n",
    "* [Linear Algebra](01b_math_linear_algebra.ipynb)\n",
    "* [Differential Calculus](01a_math_differential_calculus.ipynb)"
   ]
  },
  {
   "cell_type": "markdown",
   "metadata": {
    "collapsed": true
   },
   "source": [
    "## Prerequisites\n",
    "### To understand\n",
    "* **Python** – you don't need to be an expert python programmer, but you do need to know the basics. If you don't, the official [Python tutorial](https://docs.python.org/3/tutorial/) is a good place to start.\n",
    "* **Scientific Python** – We will be using a few popular python libraries, in particular NumPy, matplotlib and pandas. If you are not familiar with these libraries, you should probably start by going through the tutorials in the Tools section (especially NumPy)."
   ]
  }
 ],
 "metadata": {
  "kernelspec": {
   "display_name": "Python 3",
   "language": "python",
   "name": "python3"
  },
  "language_info": {
   "codemirror_mode": {
    "name": "ipython",
    "version": 3
   },
   "file_extension": ".py",
   "mimetype": "text/x-python",
   "name": "python",
   "nbconvert_exporter": "python",
   "pygments_lexer": "ipython3",
   "version": "3.6.8"
  },
  "nav_menu": {},
  "toc": {
   "base_numbering": 1,
   "nav_menu": {},
   "number_sections": true,
   "sideBar": true,
   "skip_h1_title": false,
   "title_cell": "Table of Contents",
   "title_sidebar": "Contents",
   "toc_cell": false,
   "toc_position": {},
   "toc_section_display": "block",
   "toc_window_display": true
  }
 },
 "nbformat": 4,
 "nbformat_minor": 1
}
