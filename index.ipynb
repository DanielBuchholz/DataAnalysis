{
 "cells": [
  {
   "cell_type": "markdown",
   "metadata": {},
   "source": [
    "<b> Modul Datenanalyse (SS 2020) - Python Einführung, Prof. Dr. Malte Prieß </b>\n",
    "\n",
    "# Getting Started\n",
    "* [Getting Started](01_getting_started.ipynb)\n",
    "\n",
    "# Grundlagen von Python\n",
    "\n",
    "**Überblick**\n",
    "\n",
    "[Python Numpy Tutorial (einschließlich Jupyter and Colab) vom Stanford Online Kurs CS231n](02a_EinfuehrungInPython_ShortIntro.ipynb)\n",
    "\n",
    "**Detailliertere Behandlung**\n",
    "\n",
    "1. [Allgemeine Einführung in Python](02b_EinfuehrungInPython_Einfuerung.ipynb)\n",
    "2. [Datentypen und Variablen](02c_EinfuehrungInPython_Variablen_Datentypen.ipynb)\n",
    "3. [Container als erweiterte Datentypen](02d_EinfuehrungInPython_erweiterte_Datentypen.ipynb)\n",
    "4. [Funktionen](02e_EinfuehrungInPython_Funktionen.ipynb)\n",
    "5. [I/O-Funktionen](02f_EinfuehrungInPython_IO_Funktionen.ipynb)\n",
    "6. [Objektorientierung in Python](02g_EinfuehrungInPython_Objektorientierung.ipynb)\n",
    "\n",
    "# Wissenschaftliche Bibliotheken in Python\n",
    "Im Folgenden ist einige Übersicht und Einführung in bekannte Python Bibliotheken gegeben.\n",
    "Diese sind eins zu eins aus [Géron (2018): Praxiseinstieg Machine Learning mit Scikit-Learn und TensorFlow](https://github.com/ageron/handson-ml) entnommen.\n",
    "* [NumPy](03a_tools_numpy.ipynb)\n",
    "* [Matplotlib](03b_tools_matplotlib.ipynb)\n",
    "* [Pandas](03c_tools_pandas.ipynb)\n",
    "\n",
    "# Grundlagen der explorativen Datenanalyse\n",
    "* [Grundlagen der explorativen Datenanalyse](04_explorative_data_analysis.ipynb)\n",
    "\n",
    "# Für ML relevante Tutorials der Mathematik\n",
    "Für die Verfahren des Maschinellen Lernens ist ein grundlegendes Verständnis der linearen Algebra, Analysis, Statistik und Wahrscheinlichkeitstheorie erforderlich. Wenn ihr euchmit diesen Themen nicht auskennt oder eine Auffrischung benötigt, dann sind folgende Einführungen hilfreich (Quelle: [Géron (2018): Praxiseinstieg Machine Learning mit Scikit-Learn und TensorFlow](https://github.com/ageron/handson-ml)).\n",
    "* [Linear Algebra](05a_math_linear_algebra.ipynb)\n",
    "* [Differential Calculus](05b_math_differential_calculus.ipynb)"
   ]
  },
  {
   "cell_type": "code",
   "execution_count": null,
   "metadata": {},
   "outputs": [],
   "source": []
  },
  {
   "cell_type": "code",
   "execution_count": null,
   "metadata": {},
   "outputs": [],
   "source": []
  }
 ],
 "metadata": {
  "kernelspec": {
   "display_name": "Python 3",
   "language": "python",
   "name": "python3"
  },
  "language_info": {
   "codemirror_mode": {
    "name": "ipython",
    "version": 3
   },
   "file_extension": ".py",
   "mimetype": "text/x-python",
   "name": "python",
   "nbconvert_exporter": "python",
   "pygments_lexer": "ipython3",
   "version": "3.6.8"
  },
  "nav_menu": {},
  "toc": {
   "base_numbering": 1,
   "nav_menu": {},
   "number_sections": true,
   "sideBar": true,
   "skip_h1_title": false,
   "title_cell": "Table of Contents",
   "title_sidebar": "Contents",
   "toc_cell": false,
   "toc_position": {},
   "toc_section_display": "block",
   "toc_window_display": true
  }
 },
 "nbformat": 4,
 "nbformat_minor": 1
}
